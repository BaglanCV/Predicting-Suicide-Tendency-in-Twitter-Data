{
  "nbformat": 4,
  "nbformat_minor": 0,
  "metadata": {
    "colab": {
      "name": "Predicting Suicide Tendency in Twitter Data with TFIDF and Sklearn.ipynb",
      "provenance": [],
      "collapsed_sections": [],
      "authorship_tag": "ABX9TyPKSAyhlPz/ozqz+0XefAi/",
      "include_colab_link": true
    },
    "kernelspec": {
      "name": "python3",
      "display_name": "Python 3"
    }
  },
  "cells": [
    {
      "cell_type": "markdown",
      "metadata": {
        "id": "view-in-github",
        "colab_type": "text"
      },
      "source": [
        "<a href=\"https://colab.research.google.com/github/BaglanCV/Predicting-Suicide-Tendency-in-Twitter-Data/blob/main/Predicting_Suicide_Tendency_in_Twitter_Data_with_TFIDF_and_Sklearn.ipynb\" target=\"_parent\"><img src=\"https://colab.research.google.com/assets/colab-badge.svg\" alt=\"Open In Colab\"/></a>"
      ]
    },
    {
      "cell_type": "code",
      "metadata": {
        "id": "mm0N0NQwtRpO"
      },
      "source": [
        "import pandas as pd\r\n",
        "import numpy as np"
      ],
      "execution_count": 1,
      "outputs": []
    },
    {
      "cell_type": "code",
      "metadata": {
        "colab": {
          "base_uri": "https://localhost:8080/",
          "height": 402
        },
        "id": "fkk9ZlqLuDHv",
        "outputId": "412c99bb-aaa4-4187-98c3-24453c07fdfc"
      },
      "source": [
        "df = pd.read_csv('https://raw.githubusercontent.com/laxmimerit/twitter-suicidal-intention-dataset/master/twitter-suicidal_data.csv')\r\n",
        "df"
      ],
      "execution_count": 2,
      "outputs": [
        {
          "output_type": "execute_result",
          "data": {
            "text/html": [
              "<div>\n",
              "<style scoped>\n",
              "    .dataframe tbody tr th:only-of-type {\n",
              "        vertical-align: middle;\n",
              "    }\n",
              "\n",
              "    .dataframe tbody tr th {\n",
              "        vertical-align: top;\n",
              "    }\n",
              "\n",
              "    .dataframe thead th {\n",
              "        text-align: right;\n",
              "    }\n",
              "</style>\n",
              "<table border=\"1\" class=\"dataframe\">\n",
              "  <thead>\n",
              "    <tr style=\"text-align: right;\">\n",
              "      <th></th>\n",
              "      <th>tweet</th>\n",
              "      <th>intention</th>\n",
              "    </tr>\n",
              "  </thead>\n",
              "  <tbody>\n",
              "    <tr>\n",
              "      <th>0</th>\n",
              "      <td>my life is meaningless i just want to end my l...</td>\n",
              "      <td>1</td>\n",
              "    </tr>\n",
              "    <tr>\n",
              "      <th>1</th>\n",
              "      <td>muttering i wanna die to myself daily for a fe...</td>\n",
              "      <td>1</td>\n",
              "    </tr>\n",
              "    <tr>\n",
              "      <th>2</th>\n",
              "      <td>work slave i really feel like my only purpose ...</td>\n",
              "      <td>1</td>\n",
              "    </tr>\n",
              "    <tr>\n",
              "      <th>3</th>\n",
              "      <td>i did something on the 2 of october i overdose...</td>\n",
              "      <td>1</td>\n",
              "    </tr>\n",
              "    <tr>\n",
              "      <th>4</th>\n",
              "      <td>i feel like no one cares i just want to die ma...</td>\n",
              "      <td>1</td>\n",
              "    </tr>\n",
              "    <tr>\n",
              "      <th>...</th>\n",
              "      <td>...</td>\n",
              "      <td>...</td>\n",
              "    </tr>\n",
              "    <tr>\n",
              "      <th>9114</th>\n",
              "      <td>have you ever laid on your bed at night and cr...</td>\n",
              "      <td>1</td>\n",
              "    </tr>\n",
              "    <tr>\n",
              "      <th>9115</th>\n",
              "      <td>the fault the blame the pain s still there i m...</td>\n",
              "      <td>1</td>\n",
              "    </tr>\n",
              "    <tr>\n",
              "      <th>9116</th>\n",
              "      <td>stop asking me to trust you when i m still cou...</td>\n",
              "      <td>1</td>\n",
              "    </tr>\n",
              "    <tr>\n",
              "      <th>9117</th>\n",
              "      <td>i never know how to handle sadness crying make...</td>\n",
              "      <td>1</td>\n",
              "    </tr>\n",
              "    <tr>\n",
              "      <th>9118</th>\n",
              "      <td>when cancer takes a life we blame cancer depre...</td>\n",
              "      <td>1</td>\n",
              "    </tr>\n",
              "  </tbody>\n",
              "</table>\n",
              "<p>9119 rows × 2 columns</p>\n",
              "</div>"
            ],
            "text/plain": [
              "                                                  tweet  intention\n",
              "0     my life is meaningless i just want to end my l...          1\n",
              "1     muttering i wanna die to myself daily for a fe...          1\n",
              "2     work slave i really feel like my only purpose ...          1\n",
              "3     i did something on the 2 of october i overdose...          1\n",
              "4     i feel like no one cares i just want to die ma...          1\n",
              "...                                                 ...        ...\n",
              "9114  have you ever laid on your bed at night and cr...          1\n",
              "9115  the fault the blame the pain s still there i m...          1\n",
              "9116  stop asking me to trust you when i m still cou...          1\n",
              "9117  i never know how to handle sadness crying make...          1\n",
              "9118  when cancer takes a life we blame cancer depre...          1\n",
              "\n",
              "[9119 rows x 2 columns]"
            ]
          },
          "metadata": {
            "tags": []
          },
          "execution_count": 2
        }
      ]
    },
    {
      "cell_type": "code",
      "metadata": {
        "colab": {
          "base_uri": "https://localhost:8080/"
        },
        "id": "l638rAYRud3o",
        "outputId": "89b093b2-1dd3-4ecc-fde3-d8bcebff8d93"
      },
      "source": [
        "df['intention'].value_counts()"
      ],
      "execution_count": 3,
      "outputs": [
        {
          "output_type": "execute_result",
          "data": {
            "text/plain": [
              "0    5121\n",
              "1    3998\n",
              "Name: intention, dtype: int64"
            ]
          },
          "metadata": {
            "tags": []
          },
          "execution_count": 3
        }
      ]
    },
    {
      "cell_type": "code",
      "metadata": {
        "colab": {
          "base_uri": "https://localhost:8080/",
          "height": 35
        },
        "id": "ETJa3t0suuha",
        "outputId": "0c8c3274-48a0-4626-88c0-34f078bf03cf"
      },
      "source": [
        "df['tweet'][7878]"
      ],
      "execution_count": 4,
      "outputs": [
        {
          "output_type": "execute_result",
          "data": {
            "application/vnd.google.colaboratory.intrinsic+json": {
              "type": "string"
            },
            "text/plain": [
              "'don t want to live without teeth don t want to die without bite i never want to say that i regret it'"
            ]
          },
          "metadata": {
            "tags": []
          },
          "execution_count": 4
        }
      ]
    },
    {
      "cell_type": "markdown",
      "metadata": {
        "id": "hgAOeabj4SXc"
      },
      "source": [
        "#Data Preprocessing"
      ]
    },
    {
      "cell_type": "code",
      "metadata": {
        "colab": {
          "base_uri": "https://localhost:8080/"
        },
        "id": "a1zfW84cuzW9",
        "outputId": "ca900885-cdde-441d-ec30-5bc4481ecc7c"
      },
      "source": [
        "!pip install git+https://github.com/laxmimerit/preprocess_kgptalkie.git --upgrade --force-reinstall"
      ],
      "execution_count": 5,
      "outputs": [
        {
          "output_type": "stream",
          "text": [
            "Collecting git+https://github.com/laxmimerit/preprocess_kgptalkie.git\n",
            "  Cloning https://github.com/laxmimerit/preprocess_kgptalkie.git to /tmp/pip-req-build-wooe0v3m\n",
            "  Running command git clone -q https://github.com/laxmimerit/preprocess_kgptalkie.git /tmp/pip-req-build-wooe0v3m\n",
            "Building wheels for collected packages: preprocess-kgptalkie\n",
            "  Building wheel for preprocess-kgptalkie (setup.py) ... \u001b[?25l\u001b[?25hdone\n",
            "  Created wheel for preprocess-kgptalkie: filename=preprocess_kgptalkie-0.1.3-cp37-none-any.whl size=11743 sha256=85892b2ccea94d435ee9529c2d0bec0e9ff07e2555819dbb028db78b1f4b01ed\n",
            "  Stored in directory: /tmp/pip-ephem-wheel-cache-6u6jx0bb/wheels/a8/18/22/90afa4bd43247fb9a75b710a4a3fcd94966c022ce9e3c7d0a6\n",
            "Successfully built preprocess-kgptalkie\n",
            "Installing collected packages: preprocess-kgptalkie\n",
            "  Found existing installation: preprocess-kgptalkie 0.1.3\n",
            "    Uninstalling preprocess-kgptalkie-0.1.3:\n",
            "      Successfully uninstalled preprocess-kgptalkie-0.1.3\n",
            "Successfully installed preprocess-kgptalkie-0.1.3\n"
          ],
          "name": "stdout"
        }
      ]
    },
    {
      "cell_type": "code",
      "metadata": {
        "id": "04aQK_SBxTex"
      },
      "source": [
        "import preprocess_kgptalkie as ps"
      ],
      "execution_count": 6,
      "outputs": []
    },
    {
      "cell_type": "code",
      "metadata": {
        "id": "-aP5uh1JxURf"
      },
      "source": [
        "import re"
      ],
      "execution_count": 7,
      "outputs": []
    },
    {
      "cell_type": "code",
      "metadata": {
        "id": "SpH--IbyyuHm"
      },
      "source": [
        "def get_clean(x):\r\n",
        "    x = str(x).lower().replace('\\\\', '').replace('_', ' ')\r\n",
        "    x = ps.cont_exp(x)\r\n",
        "    x = ps.remove_emails(x)\r\n",
        "    x = ps.remove_urls(x)\r\n",
        "    x = ps.remove_html_tags(x)\r\n",
        "    x = ps.remove_rt(x)\r\n",
        "    x = ps.remove_accented_chars(x)\r\n",
        "    x = ps.remove_special_chars(x)\r\n",
        "    x = re.sub(\"(.)\\\\1{2,}\", \"\\\\1\", x)\r\n",
        "    return x\r\n",
        "    #x = 'mmmmiiissssss youuuu'\r\n",
        "    #x = re.sub(\"(.)\\\\1{2,}\", \"\\\\1\", x)\r\n",
        "    #print(x)\r\n",
        "    ---\r\n",
        "    #miss you"
      ],
      "execution_count": 8,
      "outputs": []
    },
    {
      "cell_type": "code",
      "metadata": {
        "id": "XcOgkA4I1ZTt"
      },
      "source": [
        "df['tweet'] = df['tweet'].apply(lambda x:get_clean(x))"
      ],
      "execution_count": 9,
      "outputs": []
    },
    {
      "cell_type": "code",
      "metadata": {
        "colab": {
          "base_uri": "https://localhost:8080/",
          "height": 195
        },
        "id": "enDgyqQt2Lgn",
        "outputId": "86442903-d273-4ecb-c1c0-1b610b290449"
      },
      "source": [
        "df.head()"
      ],
      "execution_count": 10,
      "outputs": [
        {
          "output_type": "execute_result",
          "data": {
            "text/html": [
              "<div>\n",
              "<style scoped>\n",
              "    .dataframe tbody tr th:only-of-type {\n",
              "        vertical-align: middle;\n",
              "    }\n",
              "\n",
              "    .dataframe tbody tr th {\n",
              "        vertical-align: top;\n",
              "    }\n",
              "\n",
              "    .dataframe thead th {\n",
              "        text-align: right;\n",
              "    }\n",
              "</style>\n",
              "<table border=\"1\" class=\"dataframe\">\n",
              "  <thead>\n",
              "    <tr style=\"text-align: right;\">\n",
              "      <th></th>\n",
              "      <th>tweet</th>\n",
              "      <th>intention</th>\n",
              "    </tr>\n",
              "  </thead>\n",
              "  <tbody>\n",
              "    <tr>\n",
              "      <th>0</th>\n",
              "      <td>my life is meaningless i just want to end my l...</td>\n",
              "      <td>1</td>\n",
              "    </tr>\n",
              "    <tr>\n",
              "      <th>1</th>\n",
              "      <td>muttering i wanna die to myself daily for a fe...</td>\n",
              "      <td>1</td>\n",
              "    </tr>\n",
              "    <tr>\n",
              "      <th>2</th>\n",
              "      <td>work slave i really feel like my only purpose ...</td>\n",
              "      <td>1</td>\n",
              "    </tr>\n",
              "    <tr>\n",
              "      <th>3</th>\n",
              "      <td>i did something on the 2 of october i overdose...</td>\n",
              "      <td>1</td>\n",
              "    </tr>\n",
              "    <tr>\n",
              "      <th>4</th>\n",
              "      <td>i feel like no one cares i just want to die ma...</td>\n",
              "      <td>1</td>\n",
              "    </tr>\n",
              "  </tbody>\n",
              "</table>\n",
              "</div>"
            ],
            "text/plain": [
              "                                               tweet  intention\n",
              "0  my life is meaningless i just want to end my l...          1\n",
              "1  muttering i wanna die to myself daily for a fe...          1\n",
              "2  work slave i really feel like my only purpose ...          1\n",
              "3  i did something on the 2 of october i overdose...          1\n",
              "4  i feel like no one cares i just want to die ma...          1"
            ]
          },
          "metadata": {
            "tags": []
          },
          "execution_count": 10
        }
      ]
    },
    {
      "cell_type": "markdown",
      "metadata": {
        "id": "t0QZjxzR4bhu"
      },
      "source": [
        "#TFIDF, TRAIN_TEST_SPLIT"
      ]
    },
    {
      "cell_type": "code",
      "metadata": {
        "id": "Sk2UJtha2OPK"
      },
      "source": [
        "import sklearn as sk"
      ],
      "execution_count": 11,
      "outputs": []
    },
    {
      "cell_type": "code",
      "metadata": {
        "id": "UJiSkjYo3oNh"
      },
      "source": [
        "from sklearn.feature_extraction.text import TfidfVectorizer\r\n",
        "from sklearn.model_selection import train_test_split\r\n",
        "from sklearn.svm import LinearSVC\r\n",
        "from sklearn.metrics import classification_report"
      ],
      "execution_count": 12,
      "outputs": []
    },
    {
      "cell_type": "code",
      "metadata": {
        "id": "UZdDwrrb-aO_"
      },
      "source": [
        "tfidf = TfidfVectorizer(max_features = 20000, ngram_range=(1,3), analyzer= 'char') #we'll take into account only top 20000 dictionary words(max_features) \r\n",
        "#ngram_range is unigram, biogram and triagram, it means there are a single word, a combination of two and three words\r\n",
        "#analyzer= 'char' -a tokenization of the text data is done character by character, it gives better result than a word analyzer"
      ],
      "execution_count": 13,
      "outputs": []
    },
    {
      "cell_type": "code",
      "metadata": {
        "id": "siwdkUXlWtgV"
      },
      "source": [
        "X = tfidf.fit_transform(df['tweet'])\r\n",
        "y = df['intention']"
      ],
      "execution_count": 14,
      "outputs": []
    },
    {
      "cell_type": "code",
      "metadata": {
        "colab": {
          "base_uri": "https://localhost:8080/"
        },
        "id": "k8h3fvNDXaXW",
        "outputId": "278b50cf-a0c9-43e8-86d9-e245c6c3b716"
      },
      "source": [
        "X.shape #9119 raws and each raw has total number of 10404 features"
      ],
      "execution_count": 15,
      "outputs": [
        {
          "output_type": "execute_result",
          "data": {
            "text/plain": [
              "(9119, 10404)"
            ]
          },
          "metadata": {
            "tags": []
          },
          "execution_count": 15
        }
      ]
    },
    {
      "cell_type": "code",
      "metadata": {
        "id": "VuGPZbnXXb8C"
      },
      "source": [
        "X_train, X_test, y_train, y_test = train_test_split(X,y, test_size = 0.2, random_state =0)\r\n"
      ],
      "execution_count": 16,
      "outputs": []
    },
    {
      "cell_type": "code",
      "metadata": {
        "colab": {
          "base_uri": "https://localhost:8080/"
        },
        "id": "JhGDmZlIYlfd",
        "outputId": "4970baae-f631-409e-bd1a-d26f6ac3967e"
      },
      "source": [
        "clf = LinearSVC()\r\n",
        "clf.fit(X_train, y_train)"
      ],
      "execution_count": 17,
      "outputs": [
        {
          "output_type": "execute_result",
          "data": {
            "text/plain": [
              "LinearSVC(C=1.0, class_weight=None, dual=True, fit_intercept=True,\n",
              "          intercept_scaling=1, loss='squared_hinge', max_iter=1000,\n",
              "          multi_class='ovr', penalty='l2', random_state=None, tol=0.0001,\n",
              "          verbose=0)"
            ]
          },
          "metadata": {
            "tags": []
          },
          "execution_count": 17
        }
      ]
    },
    {
      "cell_type": "code",
      "metadata": {
        "id": "mArjppUhaDQz"
      },
      "source": [
        "y_pred = clf.predict(X_test)"
      ],
      "execution_count": 18,
      "outputs": []
    },
    {
      "cell_type": "code",
      "metadata": {
        "colab": {
          "base_uri": "https://localhost:8080/"
        },
        "id": "HZzIVVQLaVxE",
        "outputId": "0ec718ff-05f2-4893-af64-5a2916447859"
      },
      "source": [
        "print(classification_report(y_test, y_pred))"
      ],
      "execution_count": 19,
      "outputs": [
        {
          "output_type": "stream",
          "text": [
            "              precision    recall  f1-score   support\n",
            "\n",
            "           0       0.94      0.93      0.93      1060\n",
            "           1       0.91      0.91      0.91       764\n",
            "\n",
            "    accuracy                           0.92      1824\n",
            "   macro avg       0.92      0.92      0.92      1824\n",
            "weighted avg       0.92      0.92      0.92      1824\n",
            "\n"
          ],
          "name": "stdout"
        }
      ]
    },
    {
      "cell_type": "code",
      "metadata": {
        "colab": {
          "base_uri": "https://localhost:8080/"
        },
        "id": "WvCPNNSFggaP",
        "outputId": "1edbdec4-ed1c-4634-8b71-0fcd872e150c"
      },
      "source": [
        "x = 'no one Cares About me, I will die soon'\r\n",
        "x = get_clean(x)\r\n",
        "tsl = tfidf.transform([x])\r\n",
        "clf.predict(tsl)"
      ],
      "execution_count": 20,
      "outputs": [
        {
          "output_type": "execute_result",
          "data": {
            "text/plain": [
              "array([1])"
            ]
          },
          "metadata": {
            "tags": []
          },
          "execution_count": 20
        }
      ]
    },
    {
      "cell_type": "code",
      "metadata": {
        "colab": {
          "base_uri": "https://localhost:8080/"
        },
        "id": "6oMkrN0mhJCV",
        "outputId": "471c12e7-6184-4118-9d5f-3b8348f2da05"
      },
      "source": [
        "x = 'I am the happiest person in the world'\r\n",
        "x = get_clean(x)\r\n",
        "tsl = tfidf.transform([x])\r\n",
        "clf.predict(tsl)"
      ],
      "execution_count": 21,
      "outputs": [
        {
          "output_type": "execute_result",
          "data": {
            "text/plain": [
              "array([0])"
            ]
          },
          "metadata": {
            "tags": []
          },
          "execution_count": 21
        }
      ]
    },
    {
      "cell_type": "markdown",
      "metadata": {
        "id": "xRuOFVG3ijeI"
      },
      "source": [
        "#Well done!!! You did it))))"
      ]
    }
  ]
}